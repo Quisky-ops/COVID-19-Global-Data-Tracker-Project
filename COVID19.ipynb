{
 "cells": [
  {
   "cell_type": "markdown",
   "id": "87bc3f54",
   "metadata": {},
   "source": [
    "# COVID-19 Data Analysis & Vaccination Insights\n",
    "This notebook explores COVID-19 trends and vaccination progress in **Kenya**, **United States**, and **India** using the Our World in Data COVID-19 dataset."
   ]
  },
  {
   "cell_type": "markdown",
   "id": "59617ab4",
   "metadata": {},
   "source": [
    "## 🧼 Data Loading & Cleaning"
   ]
  },
  {
   "cell_type": "code",
   "execution_count": null,
   "id": "d9233655",
   "metadata": {},
   "outputs": [],
   "source": [
    "import pandas as pd\n",
    "import matplotlib.pyplot as plt\n",
    "import seaborn as sns\n",
    "\n",
    "# Load dataset\n",
    "df = pd.read_csv(\"owid-covid-data.csv\")\n",
    "\n",
    "# Filter relevant countries\n",
    "df = df[df['location'].isin(['Kenya', 'United States', 'India'])]\n",
    "\n",
    "# Drop rows with missing dates or locations\n",
    "df = df.dropna(subset=['date', 'location'])\n",
    "\n",
    "# Convert date column to datetime\n",
    "df['date'] = pd.to_datetime(df['date'])\n",
    "\n",
    "# Interpolate numeric columns and fill any remaining NaNs\n",
    "numeric_cols = df.select_dtypes(include=['float64', 'int64']).columns\n",
    "df[numeric_cols] = df[numeric_cols].interpolate(method='linear', limit_direction='forward')\n",
    "df[numeric_cols] = df[numeric_cols].fillna(0)\n",
    "\n",
    "df.head()"
   ]
  },
  {
   "cell_type": "markdown",
   "id": "9ae9cacb",
   "metadata": {},
   "source": [
    "## 📊 Exploratory Data Analysis"
   ]
  },
  {
   "cell_type": "code",
   "execution_count": null,
   "id": "2baac41a",
   "metadata": {},
   "outputs": [],
   "source": [
    "# Death rate calculation\n",
    "df['death_rate'] = df['total_deaths'] / df['total_cases']\n",
    "df['death_rate'] = df['death_rate'].fillna(0)\n",
    "\n",
    "# Set style\n",
    "sns.set(style='whitegrid')\n",
    "\n",
    "# Total cases over time\n",
    "plt.figure(figsize=(10, 6))\n",
    "for country in ['Kenya', 'United States', 'India']:\n",
    "    country_data = df[df['location'] == country]\n",
    "    plt.plot(country_data['date'], country_data['total_cases'], label=country)\n",
    "\n",
    "plt.title(\"Total COVID-19 Cases Over Time\")\n",
    "plt.xlabel(\"Date\")\n",
    "plt.ylabel(\"Total Cases\")\n",
    "plt.legend()\n",
    "plt.tight_layout()\n",
    "plt.show()\n"
   ]
  },
  {
   "cell_type": "code",
   "execution_count": null,
   "id": "4827a90d",
   "metadata": {},
   "outputs": [],
   "source": [
    "# Total deaths over time\n",
    "plt.figure(figsize=(10, 6))\n",
    "for country in ['Kenya', 'United States', 'India']:\n",
    "    country_data = df[df['location'] == country]\n",
    "    plt.plot(country_data['date'], country_data['total_deaths'], label=country)\n",
    "\n",
    "plt.title(\"Total COVID-19 Deaths Over Time\")\n",
    "plt.xlabel(\"Date\")\n",
    "plt.ylabel(\"Total Deaths\")\n",
    "plt.legend()\n",
    "plt.tight_layout()\n",
    "plt.show()\n"
   ]
  },
  {
   "cell_type": "code",
   "execution_count": null,
   "id": "0e06178c",
   "metadata": {},
   "outputs": [],
   "source": [
    "# Daily new cases\n",
    "plt.figure(figsize=(10, 6))\n",
    "for country in ['Kenya', 'United States', 'India']:\n",
    "    country_data = df[df['location'] == country]\n",
    "    plt.plot(country_data['date'], country_data['new_cases'], label=country)\n",
    "\n",
    "plt.title(\"Daily New COVID-19 Cases\")\n",
    "plt.xlabel(\"Date\")\n",
    "plt.ylabel(\"New Cases\")\n",
    "plt.legend()\n",
    "plt.tight_layout()\n",
    "plt.show()\n"
   ]
  },
  {
   "cell_type": "code",
   "execution_count": null,
   "id": "5ed31dca",
   "metadata": {},
   "outputs": [],
   "source": [
    "# Bar chart: death rate (latest date)\n",
    "latest_date = df['date'].max()\n",
    "latest_data = df[df['date'] == latest_date]\n",
    "latest_data = latest_data[latest_data['location'].isin(['Kenya', 'United States', 'India'])]\n",
    "\n",
    "plt.figure(figsize=(6, 4))\n",
    "sns.barplot(x='location', y='death_rate', data=latest_data)\n",
    "plt.title(f\"COVID-19 Death Rate as of {latest_date.date()}\")\n",
    "plt.ylabel(\"Death Rate\")\n",
    "plt.xlabel(\"Country\")\n",
    "plt.tight_layout()\n",
    "plt.show()\n"
   ]
  },
  {
   "cell_type": "code",
   "execution_count": null,
   "id": "95dfbd9a",
   "metadata": {},
   "outputs": [],
   "source": [
    "# Heatmap of correlations\n",
    "plt.figure(figsize=(10, 6))\n",
    "corr = df[numeric_cols].corr()\n",
    "sns.heatmap(corr, cmap='coolwarm', annot=False)\n",
    "plt.title(\"Feature Correlation Heatmap\")\n",
    "plt.tight_layout()\n",
    "plt.show()\n"
   ]
  },
  {
   "cell_type": "markdown",
   "id": "354953ac",
   "metadata": {},
   "source": [
    "## 💉 Vaccination Progress"
   ]
  },
  {
   "cell_type": "code",
   "execution_count": null,
   "id": "1ac62dab",
   "metadata": {},
   "outputs": [],
   "source": [
    "# Line chart: cumulative vaccinations\n",
    "plt.figure(figsize=(10, 6))\n",
    "for country in ['Kenya', 'United States', 'India']:\n",
    "    country_data = df[df['location'] == country]\n",
    "    plt.plot(country_data['date'], country_data['total_vaccinations'], label=country)\n",
    "\n",
    "plt.title(\"Cumulative COVID-19 Vaccinations Over Time\")\n",
    "plt.xlabel(\"Date\")\n",
    "plt.ylabel(\"Total Vaccinations\")\n",
    "plt.legend()\n",
    "plt.tight_layout()\n",
    "plt.show()\n"
   ]
  },
  {
   "cell_type": "code",
   "execution_count": null,
   "id": "e175d89e",
   "metadata": {},
   "outputs": [],
   "source": [
    "# Line chart: fully vaccinated per hundred\n",
    "plt.figure(figsize=(10, 6))\n",
    "for country in ['Kenya', 'United States', 'India']:\n",
    "    country_data = df[df['location'] == country]\n",
    "    plt.plot(country_data['date'], country_data['people_fully_vaccinated_per_hundred'], label=country)\n",
    "\n",
    "plt.title(\"People Fully Vaccinated (% of Population)\")\n",
    "plt.xlabel(\"Date\")\n",
    "plt.ylabel(\"Fully Vaccinated per 100 People\")\n",
    "plt.legend()\n",
    "plt.tight_layout()\n",
    "plt.show()\n"
   ]
  },
  {
   "cell_type": "code",
   "execution_count": null,
   "id": "3dcaa0fc",
   "metadata": {},
   "outputs": [],
   "source": [
    "# Pie charts: vaccinated vs. unvaccinated\n",
    "for country in ['Kenya', 'United States', 'India']:\n",
    "    country_data = latest_data[latest_data['location'] == country]\n",
    "    if not country_data.empty:\n",
    "        vaccinated = float(country_data['people_fully_vaccinated_per_hundred'].values[0])\n",
    "        unvaccinated = 100 - vaccinated\n",
    "        plt.figure(figsize=(4, 4))\n",
    "        plt.pie([vaccinated, unvaccinated],\n",
    "                labels=['Vaccinated', 'Unvaccinated'],\n",
    "                autopct='%1.1f%%',\n",
    "                startangle=140,\n",
    "                colors=['#4CAF50', '#FFC107'])\n",
    "        plt.title(f\"{country} - Vaccination Share (as of {latest_date.date()})\")\n",
    "        plt.tight_layout()\n",
    "        plt.show()\n"
   ]
  },
  {
   "cell_type": "markdown",
   "id": "118c1999",
   "metadata": {},
   "source": [
    "## 📌 Key Insights & Reporting"
   ]
  },
  {
   "cell_type": "markdown",
   "id": "ca62d031",
   "metadata": {},
   "source": [
    "### 1. **United States Led in Early Vaccination Rollout**\n",
    "The United States showed a rapid increase in cumulative vaccinations starting in late 2020 and early 2021. By mid-2021, over 50% of the U.S. population had been fully vaccinated, far ahead of Kenya and India during the same period.\n",
    "\n",
    "### 2. **India Experienced Sharp Surges in New Cases**\n",
    "India exhibited two prominent spikes in daily new COVID-19 cases — one in mid-2021 and another in early 2022 — likely corresponding to the Delta and Omicron variant outbreaks. These surges far exceeded case numbers in both Kenya and the United States during the same windows.\n",
    "\n",
    "### 3. **Kenya Lagged Behind in Vaccination Coverage**\n",
    "Despite steady growth, Kenya had significantly lower vaccination coverage throughout the observed period. By the latest available date, only around 20-30% of the population had been fully vaccinated.\n",
    "\n",
    "### 4. **Death Rate Was Higher in Early Stages**\n",
    "All countries showed a relatively higher death rate during the early stages of the pandemic when testing and treatments were limited. Over time, the death rate stabilized or declined as vaccination and treatment strategies improved.\n",
    "\n",
    "### 5. **Vaccination Progress Correlates with Case Reduction**\n",
    "In all countries, increases in the percentage of the vaccinated population were followed by periods of case stabilization or decline — suggesting the effectiveness of vaccination campaigns in controlling the spread.\n"
   ]
  }
 ],
 "metadata": {},
 "nbformat": 4,
 "nbformat_minor": 5
}